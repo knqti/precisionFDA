{
 "cells": [
  {
   "cell_type": "markdown",
   "metadata": {},
   "source": [
    "# Import"
   ]
  },
  {
   "cell_type": "code",
   "execution_count": 4,
   "metadata": {},
   "outputs": [],
   "source": [
    "import glob\n",
    "import pandas as pd\n",
    "from pycaret.classification import *"
   ]
  },
  {
   "cell_type": "markdown",
   "metadata": {},
   "source": [
    "# Data Preprocessing"
   ]
  },
  {
   "cell_type": "markdown",
   "metadata": {},
   "source": [
    "Combine training .tsv files into a Pandas DataFrame. Merge them on column `PATIENTID`."
   ]
  },
  {
   "cell_type": "code",
   "execution_count": 5,
   "metadata": {},
   "outputs": [],
   "source": [
    "path_train = '/home/kevin/Code/precisionFDA/Data/Brain-Cancer-Data/Training-Dataset'\n",
    "all_files = glob.glob(path_train + '/*.tsv')\n",
    "\n",
    "df_train = pd.DataFrame()\n",
    "\n",
    "for file in all_files:\n",
    "    df_current_train = pd.read_csv(file, sep='\\t')\n",
    "\n",
    "    if df_train.empty:\n",
    "        df_train = df_current_train\n",
    "    else:\n",
    "        df_train = pd.merge(df_train, df_current_train, how='outer', on='PATIENTID')"
   ]
  },
  {
   "cell_type": "code",
   "execution_count": 6,
   "metadata": {},
   "outputs": [
    {
     "data": {
      "text/html": [
       "<div>\n",
       "<style scoped>\n",
       "    .dataframe tbody tr th:only-of-type {\n",
       "        vertical-align: middle;\n",
       "    }\n",
       "\n",
       "    .dataframe tbody tr th {\n",
       "        vertical-align: top;\n",
       "    }\n",
       "\n",
       "    .dataframe thead th {\n",
       "        text-align: right;\n",
       "    }\n",
       "</style>\n",
       "<table border=\"1\" class=\"dataframe\">\n",
       "  <thead>\n",
       "    <tr style=\"text-align: right;\">\n",
       "      <th></th>\n",
       "      <th>PATIENTID</th>\n",
       "      <th>SURVIVAL_STATUS</th>\n",
       "      <th>SEX</th>\n",
       "      <th>RACE</th>\n",
       "      <th>WHO_GRADING</th>\n",
       "      <th>CANCER_TYPE</th>\n",
       "      <th>A1BG</th>\n",
       "      <th>A1BG.AS1</th>\n",
       "      <th>A1CF</th>\n",
       "      <th>A2M</th>\n",
       "      <th>...</th>\n",
       "      <th>ZWILCH</th>\n",
       "      <th>ZWINT</th>\n",
       "      <th>ZXDA</th>\n",
       "      <th>ZXDB</th>\n",
       "      <th>ZXDC</th>\n",
       "      <th>ZYG11A</th>\n",
       "      <th>ZYG11B</th>\n",
       "      <th>ZYX</th>\n",
       "      <th>ZZEF1</th>\n",
       "      <th>ZZZ3</th>\n",
       "    </tr>\n",
       "  </thead>\n",
       "  <tbody>\n",
       "    <tr>\n",
       "      <th>0</th>\n",
       "      <td>patient_290</td>\n",
       "      <td>1</td>\n",
       "      <td></td>\n",
       "      <td>NaN</td>\n",
       "      <td>II</td>\n",
       "      <td>ASTROCYTOMA</td>\n",
       "      <td>6.557793</td>\n",
       "      <td>6.453623</td>\n",
       "      <td>5.302909</td>\n",
       "      <td>12.530607</td>\n",
       "      <td>...</td>\n",
       "      <td>7.338461</td>\n",
       "      <td>8.616562</td>\n",
       "      <td>6.587933</td>\n",
       "      <td>6.034539</td>\n",
       "      <td>7.525232</td>\n",
       "      <td>5.847143</td>\n",
       "      <td>9.426022</td>\n",
       "      <td>10.027414</td>\n",
       "      <td>8.438376</td>\n",
       "      <td>8.853557</td>\n",
       "    </tr>\n",
       "    <tr>\n",
       "      <th>1</th>\n",
       "      <td>patient_394</td>\n",
       "      <td>1</td>\n",
       "      <td></td>\n",
       "      <td>NaN</td>\n",
       "      <td>NaN</td>\n",
       "      <td>GBM</td>\n",
       "      <td>6.323015</td>\n",
       "      <td>6.305724</td>\n",
       "      <td>5.552097</td>\n",
       "      <td>13.000489</td>\n",
       "      <td>...</td>\n",
       "      <td>8.138918</td>\n",
       "      <td>9.463643</td>\n",
       "      <td>6.233711</td>\n",
       "      <td>6.174691</td>\n",
       "      <td>8.169813</td>\n",
       "      <td>5.988549</td>\n",
       "      <td>9.988564</td>\n",
       "      <td>11.577409</td>\n",
       "      <td>8.672737</td>\n",
       "      <td>9.205295</td>\n",
       "    </tr>\n",
       "    <tr>\n",
       "      <th>2</th>\n",
       "      <td>patient_81</td>\n",
       "      <td>1</td>\n",
       "      <td></td>\n",
       "      <td>NaN</td>\n",
       "      <td>III</td>\n",
       "      <td>ASTROCYTOMA</td>\n",
       "      <td>6.669421</td>\n",
       "      <td>6.414214</td>\n",
       "      <td>5.478774</td>\n",
       "      <td>12.545510</td>\n",
       "      <td>...</td>\n",
       "      <td>7.754430</td>\n",
       "      <td>9.229166</td>\n",
       "      <td>6.288666</td>\n",
       "      <td>5.957426</td>\n",
       "      <td>8.148327</td>\n",
       "      <td>6.190679</td>\n",
       "      <td>9.531540</td>\n",
       "      <td>11.180062</td>\n",
       "      <td>8.484453</td>\n",
       "      <td>8.856021</td>\n",
       "    </tr>\n",
       "    <tr>\n",
       "      <th>3</th>\n",
       "      <td>patient_307</td>\n",
       "      <td>1</td>\n",
       "      <td></td>\n",
       "      <td>NaN</td>\n",
       "      <td>NaN</td>\n",
       "      <td>UNCLASSIFIED</td>\n",
       "      <td>6.502573</td>\n",
       "      <td>6.508156</td>\n",
       "      <td>5.648495</td>\n",
       "      <td>12.407083</td>\n",
       "      <td>...</td>\n",
       "      <td>6.582457</td>\n",
       "      <td>8.851282</td>\n",
       "      <td>6.672033</td>\n",
       "      <td>6.194203</td>\n",
       "      <td>7.576931</td>\n",
       "      <td>6.422759</td>\n",
       "      <td>9.057685</td>\n",
       "      <td>10.062035</td>\n",
       "      <td>8.508903</td>\n",
       "      <td>7.742661</td>\n",
       "    </tr>\n",
       "    <tr>\n",
       "      <th>4</th>\n",
       "      <td>patient_14</td>\n",
       "      <td>1</td>\n",
       "      <td></td>\n",
       "      <td>NaN</td>\n",
       "      <td>NaN</td>\n",
       "      <td>GBM</td>\n",
       "      <td>6.624505</td>\n",
       "      <td>6.911232</td>\n",
       "      <td>5.614099</td>\n",
       "      <td>10.777103</td>\n",
       "      <td>...</td>\n",
       "      <td>7.176397</td>\n",
       "      <td>7.618780</td>\n",
       "      <td>6.086676</td>\n",
       "      <td>6.096177</td>\n",
       "      <td>7.251395</td>\n",
       "      <td>6.090243</td>\n",
       "      <td>10.298209</td>\n",
       "      <td>9.443150</td>\n",
       "      <td>8.204315</td>\n",
       "      <td>8.606522</td>\n",
       "    </tr>\n",
       "  </tbody>\n",
       "</table>\n",
       "<p>5 rows × 19341 columns</p>\n",
       "</div>"
      ],
      "text/plain": [
       "     PATIENTID  SURVIVAL_STATUS SEX RACE WHO_GRADING   CANCER_TYPE      A1BG  \\\n",
       "0  patient_290                1      NaN          II   ASTROCYTOMA  6.557793   \n",
       "1  patient_394                1      NaN         NaN           GBM  6.323015   \n",
       "2   patient_81                1      NaN         III   ASTROCYTOMA  6.669421   \n",
       "3  patient_307                1      NaN         NaN  UNCLASSIFIED  6.502573   \n",
       "4   patient_14                1      NaN         NaN           GBM  6.624505   \n",
       "\n",
       "   A1BG.AS1      A1CF        A2M  ...    ZWILCH     ZWINT      ZXDA      ZXDB  \\\n",
       "0  6.453623  5.302909  12.530607  ...  7.338461  8.616562  6.587933  6.034539   \n",
       "1  6.305724  5.552097  13.000489  ...  8.138918  9.463643  6.233711  6.174691   \n",
       "2  6.414214  5.478774  12.545510  ...  7.754430  9.229166  6.288666  5.957426   \n",
       "3  6.508156  5.648495  12.407083  ...  6.582457  8.851282  6.672033  6.194203   \n",
       "4  6.911232  5.614099  10.777103  ...  7.176397  7.618780  6.086676  6.096177   \n",
       "\n",
       "       ZXDC    ZYG11A     ZYG11B        ZYX     ZZEF1      ZZZ3  \n",
       "0  7.525232  5.847143   9.426022  10.027414  8.438376  8.853557  \n",
       "1  8.169813  5.988549   9.988564  11.577409  8.672737  9.205295  \n",
       "2  8.148327  6.190679   9.531540  11.180062  8.484453  8.856021  \n",
       "3  7.576931  6.422759   9.057685  10.062035  8.508903  7.742661  \n",
       "4  7.251395  6.090243  10.298209   9.443150  8.204315  8.606522  \n",
       "\n",
       "[5 rows x 19341 columns]"
      ]
     },
     "execution_count": 6,
     "metadata": {},
     "output_type": "execute_result"
    }
   ],
   "source": [
    "df_train.head()"
   ]
  },
  {
   "cell_type": "markdown",
   "metadata": {},
   "source": [
    "Find columns that have NaN or empty values."
   ]
  },
  {
   "cell_type": "code",
   "execution_count": 7,
   "metadata": {},
   "outputs": [
    {
     "name": "stdout",
     "output_type": "stream",
     "text": [
      "['SEX', 'RACE', 'WHO_GRADING']\n"
     ]
    }
   ],
   "source": [
    "list_empty_null = df_train.columns[df_train.isna().any()].tolist()\n",
    "print (list_empty_null)"
   ]
  },
  {
   "cell_type": "markdown",
   "metadata": {},
   "source": [
    "Replace empty values with NaN and then drop all rows that have NaN. Check for nulls."
   ]
  },
  {
   "cell_type": "code",
   "execution_count": 8,
   "metadata": {},
   "outputs": [
    {
     "data": {
      "text/plain": [
       "SEX            0\n",
       "RACE           0\n",
       "WHO_GRADING    0\n",
       "dtype: int64"
      ]
     },
     "execution_count": 8,
     "metadata": {},
     "output_type": "execute_result"
    }
   ],
   "source": [
    "df_train.replace(' ', pd.NA, inplace=True)\n",
    "df_train.dropna(subset=['SEX', 'RACE', 'WHO_GRADING'], inplace=True)\n",
    "df_train[['SEX', 'RACE', 'WHO_GRADING']].isnull().sum()"
   ]
  },
  {
   "cell_type": "markdown",
   "metadata": {},
   "source": [
    "In the `CANCER_TYPE` column, drop rows with `UNKNOWN` and `UNCLASSIFIED` values."
   ]
  },
  {
   "cell_type": "code",
   "execution_count": 9,
   "metadata": {},
   "outputs": [],
   "source": [
    "df_train['CANCER_TYPE'].replace({'UNKNOWN':pd.NA}, inplace=True)\n",
    "df_train['CANCER_TYPE'].replace({'UNCLASSIFIED':pd.NA}, inplace=True)\n",
    "df_train.dropna(subset=['CANCER_TYPE'], inplace=True)"
   ]
  },
  {
   "cell_type": "markdown",
   "metadata": {},
   "source": [
    "Reset DataFrame index."
   ]
  },
  {
   "cell_type": "code",
   "execution_count": 10,
   "metadata": {},
   "outputs": [],
   "source": [
    "df_train.reset_index(drop=True, inplace=True)"
   ]
  },
  {
   "cell_type": "markdown",
   "metadata": {},
   "source": [
    "# Train Model"
   ]
  },
  {
   "cell_type": "markdown",
   "metadata": {},
   "source": [
    "In `setup()`, set the `target` to `SURVIVAL_STATUS` and ignore `PATIENTID` column."
   ]
  },
  {
   "cell_type": "code",
   "execution_count": 11,
   "metadata": {},
   "outputs": [
    {
     "data": {
      "text/html": [
       "<style type=\"text/css\">\n",
       "#T_3744d_row10_col1 {\n",
       "  background-color: lightgreen;\n",
       "}\n",
       "</style>\n",
       "<table id=\"T_3744d\">\n",
       "  <thead>\n",
       "    <tr>\n",
       "      <th class=\"blank level0\" >&nbsp;</th>\n",
       "      <th id=\"T_3744d_level0_col0\" class=\"col_heading level0 col0\" >Description</th>\n",
       "      <th id=\"T_3744d_level0_col1\" class=\"col_heading level0 col1\" >Value</th>\n",
       "    </tr>\n",
       "  </thead>\n",
       "  <tbody>\n",
       "    <tr>\n",
       "      <th id=\"T_3744d_level0_row0\" class=\"row_heading level0 row0\" >0</th>\n",
       "      <td id=\"T_3744d_row0_col0\" class=\"data row0 col0\" >Session id</td>\n",
       "      <td id=\"T_3744d_row0_col1\" class=\"data row0 col1\" >1</td>\n",
       "    </tr>\n",
       "    <tr>\n",
       "      <th id=\"T_3744d_level0_row1\" class=\"row_heading level0 row1\" >1</th>\n",
       "      <td id=\"T_3744d_row1_col0\" class=\"data row1 col0\" >Target</td>\n",
       "      <td id=\"T_3744d_row1_col1\" class=\"data row1 col1\" >SURVIVAL_STATUS</td>\n",
       "    </tr>\n",
       "    <tr>\n",
       "      <th id=\"T_3744d_level0_row2\" class=\"row_heading level0 row2\" >2</th>\n",
       "      <td id=\"T_3744d_row2_col0\" class=\"data row2 col0\" >Target type</td>\n",
       "      <td id=\"T_3744d_row2_col1\" class=\"data row2 col1\" >Binary</td>\n",
       "    </tr>\n",
       "    <tr>\n",
       "      <th id=\"T_3744d_level0_row3\" class=\"row_heading level0 row3\" >3</th>\n",
       "      <td id=\"T_3744d_row3_col0\" class=\"data row3 col0\" >Original data shape</td>\n",
       "      <td id=\"T_3744d_row3_col1\" class=\"data row3 col1\" >(165, 19341)</td>\n",
       "    </tr>\n",
       "    <tr>\n",
       "      <th id=\"T_3744d_level0_row4\" class=\"row_heading level0 row4\" >4</th>\n",
       "      <td id=\"T_3744d_row4_col0\" class=\"data row4 col0\" >Transformed data shape</td>\n",
       "      <td id=\"T_3744d_row4_col1\" class=\"data row4 col1\" >(165, 19349)</td>\n",
       "    </tr>\n",
       "    <tr>\n",
       "      <th id=\"T_3744d_level0_row5\" class=\"row_heading level0 row5\" >5</th>\n",
       "      <td id=\"T_3744d_row5_col0\" class=\"data row5 col0\" >Transformed train set shape</td>\n",
       "      <td id=\"T_3744d_row5_col1\" class=\"data row5 col1\" >(115, 19349)</td>\n",
       "    </tr>\n",
       "    <tr>\n",
       "      <th id=\"T_3744d_level0_row6\" class=\"row_heading level0 row6\" >6</th>\n",
       "      <td id=\"T_3744d_row6_col0\" class=\"data row6 col0\" >Transformed test set shape</td>\n",
       "      <td id=\"T_3744d_row6_col1\" class=\"data row6 col1\" >(50, 19349)</td>\n",
       "    </tr>\n",
       "    <tr>\n",
       "      <th id=\"T_3744d_level0_row7\" class=\"row_heading level0 row7\" >7</th>\n",
       "      <td id=\"T_3744d_row7_col0\" class=\"data row7 col0\" >Ignore features</td>\n",
       "      <td id=\"T_3744d_row7_col1\" class=\"data row7 col1\" >1</td>\n",
       "    </tr>\n",
       "    <tr>\n",
       "      <th id=\"T_3744d_level0_row8\" class=\"row_heading level0 row8\" >8</th>\n",
       "      <td id=\"T_3744d_row8_col0\" class=\"data row8 col0\" >Numeric features</td>\n",
       "      <td id=\"T_3744d_row8_col1\" class=\"data row8 col1\" >19335</td>\n",
       "    </tr>\n",
       "    <tr>\n",
       "      <th id=\"T_3744d_level0_row9\" class=\"row_heading level0 row9\" >9</th>\n",
       "      <td id=\"T_3744d_row9_col0\" class=\"data row9 col0\" >Categorical features</td>\n",
       "      <td id=\"T_3744d_row9_col1\" class=\"data row9 col1\" >4</td>\n",
       "    </tr>\n",
       "    <tr>\n",
       "      <th id=\"T_3744d_level0_row10\" class=\"row_heading level0 row10\" >10</th>\n",
       "      <td id=\"T_3744d_row10_col0\" class=\"data row10 col0\" >Preprocess</td>\n",
       "      <td id=\"T_3744d_row10_col1\" class=\"data row10 col1\" >True</td>\n",
       "    </tr>\n",
       "    <tr>\n",
       "      <th id=\"T_3744d_level0_row11\" class=\"row_heading level0 row11\" >11</th>\n",
       "      <td id=\"T_3744d_row11_col0\" class=\"data row11 col0\" >Imputation type</td>\n",
       "      <td id=\"T_3744d_row11_col1\" class=\"data row11 col1\" >simple</td>\n",
       "    </tr>\n",
       "    <tr>\n",
       "      <th id=\"T_3744d_level0_row12\" class=\"row_heading level0 row12\" >12</th>\n",
       "      <td id=\"T_3744d_row12_col0\" class=\"data row12 col0\" >Numeric imputation</td>\n",
       "      <td id=\"T_3744d_row12_col1\" class=\"data row12 col1\" >mean</td>\n",
       "    </tr>\n",
       "    <tr>\n",
       "      <th id=\"T_3744d_level0_row13\" class=\"row_heading level0 row13\" >13</th>\n",
       "      <td id=\"T_3744d_row13_col0\" class=\"data row13 col0\" >Categorical imputation</td>\n",
       "      <td id=\"T_3744d_row13_col1\" class=\"data row13 col1\" >mode</td>\n",
       "    </tr>\n",
       "    <tr>\n",
       "      <th id=\"T_3744d_level0_row14\" class=\"row_heading level0 row14\" >14</th>\n",
       "      <td id=\"T_3744d_row14_col0\" class=\"data row14 col0\" >Maximum one-hot encoding</td>\n",
       "      <td id=\"T_3744d_row14_col1\" class=\"data row14 col1\" >25</td>\n",
       "    </tr>\n",
       "    <tr>\n",
       "      <th id=\"T_3744d_level0_row15\" class=\"row_heading level0 row15\" >15</th>\n",
       "      <td id=\"T_3744d_row15_col0\" class=\"data row15 col0\" >Encoding method</td>\n",
       "      <td id=\"T_3744d_row15_col1\" class=\"data row15 col1\" >None</td>\n",
       "    </tr>\n",
       "    <tr>\n",
       "      <th id=\"T_3744d_level0_row16\" class=\"row_heading level0 row16\" >16</th>\n",
       "      <td id=\"T_3744d_row16_col0\" class=\"data row16 col0\" >Fold Generator</td>\n",
       "      <td id=\"T_3744d_row16_col1\" class=\"data row16 col1\" >StratifiedKFold</td>\n",
       "    </tr>\n",
       "    <tr>\n",
       "      <th id=\"T_3744d_level0_row17\" class=\"row_heading level0 row17\" >17</th>\n",
       "      <td id=\"T_3744d_row17_col0\" class=\"data row17 col0\" >Fold Number</td>\n",
       "      <td id=\"T_3744d_row17_col1\" class=\"data row17 col1\" >10</td>\n",
       "    </tr>\n",
       "    <tr>\n",
       "      <th id=\"T_3744d_level0_row18\" class=\"row_heading level0 row18\" >18</th>\n",
       "      <td id=\"T_3744d_row18_col0\" class=\"data row18 col0\" >CPU Jobs</td>\n",
       "      <td id=\"T_3744d_row18_col1\" class=\"data row18 col1\" >-1</td>\n",
       "    </tr>\n",
       "    <tr>\n",
       "      <th id=\"T_3744d_level0_row19\" class=\"row_heading level0 row19\" >19</th>\n",
       "      <td id=\"T_3744d_row19_col0\" class=\"data row19 col0\" >Use GPU</td>\n",
       "      <td id=\"T_3744d_row19_col1\" class=\"data row19 col1\" >False</td>\n",
       "    </tr>\n",
       "    <tr>\n",
       "      <th id=\"T_3744d_level0_row20\" class=\"row_heading level0 row20\" >20</th>\n",
       "      <td id=\"T_3744d_row20_col0\" class=\"data row20 col0\" >Log Experiment</td>\n",
       "      <td id=\"T_3744d_row20_col1\" class=\"data row20 col1\" >False</td>\n",
       "    </tr>\n",
       "    <tr>\n",
       "      <th id=\"T_3744d_level0_row21\" class=\"row_heading level0 row21\" >21</th>\n",
       "      <td id=\"T_3744d_row21_col0\" class=\"data row21 col0\" >Experiment Name</td>\n",
       "      <td id=\"T_3744d_row21_col1\" class=\"data row21 col1\" >clf-default-name</td>\n",
       "    </tr>\n",
       "    <tr>\n",
       "      <th id=\"T_3744d_level0_row22\" class=\"row_heading level0 row22\" >22</th>\n",
       "      <td id=\"T_3744d_row22_col0\" class=\"data row22 col0\" >USI</td>\n",
       "      <td id=\"T_3744d_row22_col1\" class=\"data row22 col1\" >3bd9</td>\n",
       "    </tr>\n",
       "  </tbody>\n",
       "</table>\n"
      ],
      "text/plain": [
       "<pandas.io.formats.style.Styler at 0x7f32dc307220>"
      ]
     },
     "metadata": {},
     "output_type": "display_data"
    }
   ],
   "source": [
    "s = setup(\n",
    "    df_train, \n",
    "    target='SURVIVAL_STATUS', \n",
    "    ignore_features=['PATIENTID'], \n",
    "    session_id=1)"
   ]
  },
  {
   "cell_type": "markdown",
   "metadata": {},
   "source": [
    "Find the best model and save it."
   ]
  },
  {
   "cell_type": "code",
   "execution_count": 67,
   "metadata": {},
   "outputs": [
    {
     "data": {
      "text/html": [],
      "text/plain": [
       "<IPython.core.display.HTML object>"
      ]
     },
     "metadata": {},
     "output_type": "display_data"
    },
    {
     "data": {
      "text/html": [
       "<style type=\"text/css\">\n",
       "#T_9a7c5 th {\n",
       "  text-align: left;\n",
       "}\n",
       "#T_9a7c5_row0_col0, #T_9a7c5_row0_col2, #T_9a7c5_row0_col4, #T_9a7c5_row0_col6, #T_9a7c5_row0_col7, #T_9a7c5_row1_col0, #T_9a7c5_row1_col1, #T_9a7c5_row1_col2, #T_9a7c5_row1_col4, #T_9a7c5_row1_col5, #T_9a7c5_row1_col6, #T_9a7c5_row1_col7, #T_9a7c5_row2_col0, #T_9a7c5_row2_col1, #T_9a7c5_row2_col2, #T_9a7c5_row2_col3, #T_9a7c5_row2_col4, #T_9a7c5_row2_col5, #T_9a7c5_row2_col6, #T_9a7c5_row2_col7, #T_9a7c5_row3_col0, #T_9a7c5_row3_col1, #T_9a7c5_row3_col2, #T_9a7c5_row3_col3, #T_9a7c5_row3_col4, #T_9a7c5_row3_col5, #T_9a7c5_row3_col6, #T_9a7c5_row3_col7, #T_9a7c5_row4_col0, #T_9a7c5_row4_col1, #T_9a7c5_row4_col2, #T_9a7c5_row4_col3, #T_9a7c5_row4_col4, #T_9a7c5_row4_col5, #T_9a7c5_row4_col6, #T_9a7c5_row4_col7, #T_9a7c5_row5_col0, #T_9a7c5_row5_col1, #T_9a7c5_row5_col3, #T_9a7c5_row5_col4, #T_9a7c5_row5_col5, #T_9a7c5_row5_col6, #T_9a7c5_row5_col7, #T_9a7c5_row6_col0, #T_9a7c5_row6_col1, #T_9a7c5_row6_col2, #T_9a7c5_row6_col4, #T_9a7c5_row6_col5, #T_9a7c5_row6_col6, #T_9a7c5_row6_col7, #T_9a7c5_row7_col0, #T_9a7c5_row7_col1, #T_9a7c5_row7_col2, #T_9a7c5_row7_col3, #T_9a7c5_row7_col4, #T_9a7c5_row7_col5, #T_9a7c5_row7_col6, #T_9a7c5_row7_col7, #T_9a7c5_row8_col0, #T_9a7c5_row8_col1, #T_9a7c5_row8_col2, #T_9a7c5_row8_col3, #T_9a7c5_row8_col4, #T_9a7c5_row8_col5, #T_9a7c5_row8_col6, #T_9a7c5_row8_col7, #T_9a7c5_row9_col0, #T_9a7c5_row9_col1, #T_9a7c5_row9_col2, #T_9a7c5_row9_col3, #T_9a7c5_row9_col5, #T_9a7c5_row10_col0, #T_9a7c5_row10_col1, #T_9a7c5_row10_col2, #T_9a7c5_row10_col3, #T_9a7c5_row10_col4, #T_9a7c5_row10_col5, #T_9a7c5_row10_col6, #T_9a7c5_row10_col7, #T_9a7c5_row11_col0, #T_9a7c5_row11_col1, #T_9a7c5_row11_col2, #T_9a7c5_row11_col3, #T_9a7c5_row11_col4, #T_9a7c5_row11_col5, #T_9a7c5_row11_col6, #T_9a7c5_row11_col7, #T_9a7c5_row12_col0, #T_9a7c5_row12_col1, #T_9a7c5_row12_col2, #T_9a7c5_row12_col3, #T_9a7c5_row12_col4, #T_9a7c5_row12_col5, #T_9a7c5_row12_col6, #T_9a7c5_row12_col7, #T_9a7c5_row13_col0, #T_9a7c5_row13_col1, #T_9a7c5_row13_col2, #T_9a7c5_row13_col3, #T_9a7c5_row13_col4, #T_9a7c5_row13_col5, #T_9a7c5_row13_col6, #T_9a7c5_row13_col7 {\n",
       "  text-align: left;\n",
       "}\n",
       "#T_9a7c5_row0_col1, #T_9a7c5_row0_col3, #T_9a7c5_row0_col5, #T_9a7c5_row1_col3, #T_9a7c5_row5_col2, #T_9a7c5_row6_col3, #T_9a7c5_row9_col4, #T_9a7c5_row9_col6, #T_9a7c5_row9_col7 {\n",
       "  text-align: left;\n",
       "  background-color: yellow;\n",
       "}\n",
       "#T_9a7c5_row0_col8, #T_9a7c5_row1_col8, #T_9a7c5_row2_col8, #T_9a7c5_row3_col8, #T_9a7c5_row4_col8, #T_9a7c5_row5_col8, #T_9a7c5_row6_col8, #T_9a7c5_row7_col8, #T_9a7c5_row8_col8, #T_9a7c5_row9_col8, #T_9a7c5_row10_col8, #T_9a7c5_row11_col8, #T_9a7c5_row12_col8 {\n",
       "  text-align: left;\n",
       "  background-color: lightgrey;\n",
       "}\n",
       "#T_9a7c5_row13_col8 {\n",
       "  text-align: left;\n",
       "  background-color: yellow;\n",
       "  background-color: lightgrey;\n",
       "}\n",
       "</style>\n",
       "<table id=\"T_9a7c5\">\n",
       "  <thead>\n",
       "    <tr>\n",
       "      <th class=\"blank level0\" >&nbsp;</th>\n",
       "      <th id=\"T_9a7c5_level0_col0\" class=\"col_heading level0 col0\" >Model</th>\n",
       "      <th id=\"T_9a7c5_level0_col1\" class=\"col_heading level0 col1\" >Accuracy</th>\n",
       "      <th id=\"T_9a7c5_level0_col2\" class=\"col_heading level0 col2\" >AUC</th>\n",
       "      <th id=\"T_9a7c5_level0_col3\" class=\"col_heading level0 col3\" >Recall</th>\n",
       "      <th id=\"T_9a7c5_level0_col4\" class=\"col_heading level0 col4\" >Prec.</th>\n",
       "      <th id=\"T_9a7c5_level0_col5\" class=\"col_heading level0 col5\" >F1</th>\n",
       "      <th id=\"T_9a7c5_level0_col6\" class=\"col_heading level0 col6\" >Kappa</th>\n",
       "      <th id=\"T_9a7c5_level0_col7\" class=\"col_heading level0 col7\" >MCC</th>\n",
       "      <th id=\"T_9a7c5_level0_col8\" class=\"col_heading level0 col8\" >TT (Sec)</th>\n",
       "    </tr>\n",
       "  </thead>\n",
       "  <tbody>\n",
       "    <tr>\n",
       "      <th id=\"T_9a7c5_level0_row0\" class=\"row_heading level0 row0\" >rf</th>\n",
       "      <td id=\"T_9a7c5_row0_col0\" class=\"data row0 col0\" >Random Forest Classifier</td>\n",
       "      <td id=\"T_9a7c5_row0_col1\" class=\"data row0 col1\" >0.8886</td>\n",
       "      <td id=\"T_9a7c5_row0_col2\" class=\"data row0 col2\" >0.0000</td>\n",
       "      <td id=\"T_9a7c5_row0_col3\" class=\"data row0 col3\" >1.0000</td>\n",
       "      <td id=\"T_9a7c5_row0_col4\" class=\"data row0 col4\" >0.8861</td>\n",
       "      <td id=\"T_9a7c5_row0_col5\" class=\"data row0 col5\" >0.9388</td>\n",
       "      <td id=\"T_9a7c5_row0_col6\" class=\"data row0 col6\" >0.2866</td>\n",
       "      <td id=\"T_9a7c5_row0_col7\" class=\"data row0 col7\" >0.3016</td>\n",
       "      <td id=\"T_9a7c5_row0_col8\" class=\"data row0 col8\" >35.8340</td>\n",
       "    </tr>\n",
       "    <tr>\n",
       "      <th id=\"T_9a7c5_level0_row1\" class=\"row_heading level0 row1\" >et</th>\n",
       "      <td id=\"T_9a7c5_row1_col0\" class=\"data row1 col0\" >Extra Trees Classifier</td>\n",
       "      <td id=\"T_9a7c5_row1_col1\" class=\"data row1 col1\" >0.8879</td>\n",
       "      <td id=\"T_9a7c5_row1_col2\" class=\"data row1 col2\" >0.0000</td>\n",
       "      <td id=\"T_9a7c5_row1_col3\" class=\"data row1 col3\" >1.0000</td>\n",
       "      <td id=\"T_9a7c5_row1_col4\" class=\"data row1 col4\" >0.8855</td>\n",
       "      <td id=\"T_9a7c5_row1_col5\" class=\"data row1 col5\" >0.9384</td>\n",
       "      <td id=\"T_9a7c5_row1_col6\" class=\"data row1 col6\" >0.2871</td>\n",
       "      <td id=\"T_9a7c5_row1_col7\" class=\"data row1 col7\" >0.3019</td>\n",
       "      <td id=\"T_9a7c5_row1_col8\" class=\"data row1 col8\" >36.1710</td>\n",
       "    </tr>\n",
       "    <tr>\n",
       "      <th id=\"T_9a7c5_level0_row2\" class=\"row_heading level0 row2\" >lda</th>\n",
       "      <td id=\"T_9a7c5_row2_col0\" class=\"data row2 col0\" >Linear Discriminant Analysis</td>\n",
       "      <td id=\"T_9a7c5_row2_col1\" class=\"data row2 col1\" >0.8795</td>\n",
       "      <td id=\"T_9a7c5_row2_col2\" class=\"data row2 col2\" >0.7839</td>\n",
       "      <td id=\"T_9a7c5_row2_col3\" class=\"data row2 col3\" >0.9800</td>\n",
       "      <td id=\"T_9a7c5_row2_col4\" class=\"data row2 col4\" >0.8921</td>\n",
       "      <td id=\"T_9a7c5_row2_col5\" class=\"data row2 col5\" >0.9327</td>\n",
       "      <td id=\"T_9a7c5_row2_col6\" class=\"data row2 col6\" >0.2987</td>\n",
       "      <td id=\"T_9a7c5_row2_col7\" class=\"data row2 col7\" >0.3226</td>\n",
       "      <td id=\"T_9a7c5_row2_col8\" class=\"data row2 col8\" >25.0900</td>\n",
       "    </tr>\n",
       "    <tr>\n",
       "      <th id=\"T_9a7c5_level0_row3\" class=\"row_heading level0 row3\" >lightgbm</th>\n",
       "      <td id=\"T_9a7c5_row3_col0\" class=\"data row3 col0\" >Light Gradient Boosting Machine</td>\n",
       "      <td id=\"T_9a7c5_row3_col1\" class=\"data row3 col1\" >0.8788</td>\n",
       "      <td id=\"T_9a7c5_row3_col2\" class=\"data row3 col2\" >0.0000</td>\n",
       "      <td id=\"T_9a7c5_row3_col3\" class=\"data row3 col3\" >0.9900</td>\n",
       "      <td id=\"T_9a7c5_row3_col4\" class=\"data row3 col4\" >0.8855</td>\n",
       "      <td id=\"T_9a7c5_row3_col5\" class=\"data row3 col5\" >0.9332</td>\n",
       "      <td id=\"T_9a7c5_row3_col6\" class=\"data row3 col6\" >0.2491</td>\n",
       "      <td id=\"T_9a7c5_row3_col7\" class=\"data row3 col7\" >0.2690</td>\n",
       "      <td id=\"T_9a7c5_row3_col8\" class=\"data row3 col8\" >57.3890</td>\n",
       "    </tr>\n",
       "    <tr>\n",
       "      <th id=\"T_9a7c5_level0_row4\" class=\"row_heading level0 row4\" >ridge</th>\n",
       "      <td id=\"T_9a7c5_row4_col0\" class=\"data row4 col0\" >Ridge Classifier</td>\n",
       "      <td id=\"T_9a7c5_row4_col1\" class=\"data row4 col1\" >0.8629</td>\n",
       "      <td id=\"T_9a7c5_row4_col2\" class=\"data row4 col2\" >0.6800</td>\n",
       "      <td id=\"T_9a7c5_row4_col3\" class=\"data row4 col3\" >0.9589</td>\n",
       "      <td id=\"T_9a7c5_row4_col4\" class=\"data row4 col4\" >0.8890</td>\n",
       "      <td id=\"T_9a7c5_row4_col5\" class=\"data row4 col5\" >0.9211</td>\n",
       "      <td id=\"T_9a7c5_row4_col6\" class=\"data row4 col6\" >0.2760</td>\n",
       "      <td id=\"T_9a7c5_row4_col7\" class=\"data row4 col7\" >0.2857</td>\n",
       "      <td id=\"T_9a7c5_row4_col8\" class=\"data row4 col8\" >25.4010</td>\n",
       "    </tr>\n",
       "    <tr>\n",
       "      <th id=\"T_9a7c5_level0_row5\" class=\"row_heading level0 row5\" >ada</th>\n",
       "      <td id=\"T_9a7c5_row5_col0\" class=\"data row5 col0\" >Ada Boost Classifier</td>\n",
       "      <td id=\"T_9a7c5_row5_col1\" class=\"data row5 col1\" >0.8629</td>\n",
       "      <td id=\"T_9a7c5_row5_col2\" class=\"data row5 col2\" >0.8044</td>\n",
       "      <td id=\"T_9a7c5_row5_col3\" class=\"data row5 col3\" >0.9600</td>\n",
       "      <td id=\"T_9a7c5_row5_col4\" class=\"data row5 col4\" >0.8921</td>\n",
       "      <td id=\"T_9a7c5_row5_col5\" class=\"data row5 col5\" >0.9232</td>\n",
       "      <td id=\"T_9a7c5_row5_col6\" class=\"data row5 col6\" >0.2516</td>\n",
       "      <td id=\"T_9a7c5_row5_col7\" class=\"data row5 col7\" >0.2646</td>\n",
       "      <td id=\"T_9a7c5_row5_col8\" class=\"data row5 col8\" >26.3610</td>\n",
       "    </tr>\n",
       "    <tr>\n",
       "      <th id=\"T_9a7c5_level0_row6\" class=\"row_heading level0 row6\" >dummy</th>\n",
       "      <td id=\"T_9a7c5_row6_col0\" class=\"data row6 col0\" >Dummy Classifier</td>\n",
       "      <td id=\"T_9a7c5_row6_col1\" class=\"data row6 col1\" >0.8530</td>\n",
       "      <td id=\"T_9a7c5_row6_col2\" class=\"data row6 col2\" >0.0000</td>\n",
       "      <td id=\"T_9a7c5_row6_col3\" class=\"data row6 col3\" >1.0000</td>\n",
       "      <td id=\"T_9a7c5_row6_col4\" class=\"data row6 col4\" >0.8530</td>\n",
       "      <td id=\"T_9a7c5_row6_col5\" class=\"data row6 col5\" >0.9203</td>\n",
       "      <td id=\"T_9a7c5_row6_col6\" class=\"data row6 col6\" >0.0000</td>\n",
       "      <td id=\"T_9a7c5_row6_col7\" class=\"data row6 col7\" >0.0000</td>\n",
       "      <td id=\"T_9a7c5_row6_col8\" class=\"data row6 col8\" >37.0920</td>\n",
       "    </tr>\n",
       "    <tr>\n",
       "      <th id=\"T_9a7c5_level0_row7\" class=\"row_heading level0 row7\" >lr</th>\n",
       "      <td id=\"T_9a7c5_row7_col0\" class=\"data row7 col0\" >Logistic Regression</td>\n",
       "      <td id=\"T_9a7c5_row7_col1\" class=\"data row7 col1\" >0.8455</td>\n",
       "      <td id=\"T_9a7c5_row7_col2\" class=\"data row7 col2\" >0.7783</td>\n",
       "      <td id=\"T_9a7c5_row7_col3\" class=\"data row7 col3\" >0.9378</td>\n",
       "      <td id=\"T_9a7c5_row7_col4\" class=\"data row7 col4\" >0.8858</td>\n",
       "      <td id=\"T_9a7c5_row7_col5\" class=\"data row7 col5\" >0.9088</td>\n",
       "      <td id=\"T_9a7c5_row7_col6\" class=\"data row7 col6\" >0.2528</td>\n",
       "      <td id=\"T_9a7c5_row7_col7\" class=\"data row7 col7\" >0.2644</td>\n",
       "      <td id=\"T_9a7c5_row7_col8\" class=\"data row7 col8\" >25.6820</td>\n",
       "    </tr>\n",
       "    <tr>\n",
       "      <th id=\"T_9a7c5_level0_row8\" class=\"row_heading level0 row8\" >gbc</th>\n",
       "      <td id=\"T_9a7c5_row8_col0\" class=\"data row8 col0\" >Gradient Boosting Classifier</td>\n",
       "      <td id=\"T_9a7c5_row8_col1\" class=\"data row8 col1\" >0.8455</td>\n",
       "      <td id=\"T_9a7c5_row8_col2\" class=\"data row8 col2\" >0.7028</td>\n",
       "      <td id=\"T_9a7c5_row8_col3\" class=\"data row8 col3\" >0.9178</td>\n",
       "      <td id=\"T_9a7c5_row8_col4\" class=\"data row8 col4\" >0.9011</td>\n",
       "      <td id=\"T_9a7c5_row8_col5\" class=\"data row8 col5\" >0.9085</td>\n",
       "      <td id=\"T_9a7c5_row8_col6\" class=\"data row8 col6\" >0.3233</td>\n",
       "      <td id=\"T_9a7c5_row8_col7\" class=\"data row8 col7\" >0.3280</td>\n",
       "      <td id=\"T_9a7c5_row8_col8\" class=\"data row8 col8\" >30.7820</td>\n",
       "    </tr>\n",
       "    <tr>\n",
       "      <th id=\"T_9a7c5_level0_row9\" class=\"row_heading level0 row9\" >nb</th>\n",
       "      <td id=\"T_9a7c5_row9_col0\" class=\"data row9 col0\" >Naive Bayes</td>\n",
       "      <td id=\"T_9a7c5_row9_col1\" class=\"data row9 col1\" >0.8447</td>\n",
       "      <td id=\"T_9a7c5_row9_col2\" class=\"data row9 col2\" >0.0000</td>\n",
       "      <td id=\"T_9a7c5_row9_col3\" class=\"data row9 col3\" >0.8878</td>\n",
       "      <td id=\"T_9a7c5_row9_col4\" class=\"data row9 col4\" >0.9302</td>\n",
       "      <td id=\"T_9a7c5_row9_col5\" class=\"data row9 col5\" >0.9054</td>\n",
       "      <td id=\"T_9a7c5_row9_col6\" class=\"data row9 col6\" >0.3945</td>\n",
       "      <td id=\"T_9a7c5_row9_col7\" class=\"data row9 col7\" >0.4110</td>\n",
       "      <td id=\"T_9a7c5_row9_col8\" class=\"data row9 col8\" >37.3830</td>\n",
       "    </tr>\n",
       "    <tr>\n",
       "      <th id=\"T_9a7c5_level0_row10\" class=\"row_heading level0 row10\" >knn</th>\n",
       "      <td id=\"T_9a7c5_row10_col0\" class=\"data row10 col0\" >K Neighbors Classifier</td>\n",
       "      <td id=\"T_9a7c5_row10_col1\" class=\"data row10 col1\" >0.8273</td>\n",
       "      <td id=\"T_9a7c5_row10_col2\" class=\"data row10 col2\" >0.0000</td>\n",
       "      <td id=\"T_9a7c5_row10_col3\" class=\"data row10 col3\" >0.9700</td>\n",
       "      <td id=\"T_9a7c5_row10_col4\" class=\"data row10 col4\" >0.8491</td>\n",
       "      <td id=\"T_9a7c5_row10_col5\" class=\"data row10 col5\" >0.9046</td>\n",
       "      <td id=\"T_9a7c5_row10_col6\" class=\"data row10 col6\" >-0.0350</td>\n",
       "      <td id=\"T_9a7c5_row10_col7\" class=\"data row10 col7\" >-0.0370</td>\n",
       "      <td id=\"T_9a7c5_row10_col8\" class=\"data row10 col8\" >36.7930</td>\n",
       "    </tr>\n",
       "    <tr>\n",
       "      <th id=\"T_9a7c5_level0_row11\" class=\"row_heading level0 row11\" >svm</th>\n",
       "      <td id=\"T_9a7c5_row11_col0\" class=\"data row11 col0\" >SVM - Linear Kernel</td>\n",
       "      <td id=\"T_9a7c5_row11_col1\" class=\"data row11 col1\" >0.8189</td>\n",
       "      <td id=\"T_9a7c5_row11_col2\" class=\"data row11 col2\" >0.7867</td>\n",
       "      <td id=\"T_9a7c5_row11_col3\" class=\"data row11 col3\" >0.9500</td>\n",
       "      <td id=\"T_9a7c5_row11_col4\" class=\"data row11 col4\" >0.8557</td>\n",
       "      <td id=\"T_9a7c5_row11_col5\" class=\"data row11 col5\" >0.8973</td>\n",
       "      <td id=\"T_9a7c5_row11_col6\" class=\"data row11 col6\" >0.0271</td>\n",
       "      <td id=\"T_9a7c5_row11_col7\" class=\"data row11 col7\" >0.0313</td>\n",
       "      <td id=\"T_9a7c5_row11_col8\" class=\"data row11 col8\" >25.6790</td>\n",
       "    </tr>\n",
       "    <tr>\n",
       "      <th id=\"T_9a7c5_level0_row12\" class=\"row_heading level0 row12\" >dt</th>\n",
       "      <td id=\"T_9a7c5_row12_col0\" class=\"data row12 col0\" >Decision Tree Classifier</td>\n",
       "      <td id=\"T_9a7c5_row12_col1\" class=\"data row12 col1\" >0.7841</td>\n",
       "      <td id=\"T_9a7c5_row12_col2\" class=\"data row12 col2\" >0.0000</td>\n",
       "      <td id=\"T_9a7c5_row12_col3\" class=\"data row12 col3\" >0.8567</td>\n",
       "      <td id=\"T_9a7c5_row12_col4\" class=\"data row12 col4\" >0.8871</td>\n",
       "      <td id=\"T_9a7c5_row12_col5\" class=\"data row12 col5\" >0.8691</td>\n",
       "      <td id=\"T_9a7c5_row12_col6\" class=\"data row12 col6\" >0.2044</td>\n",
       "      <td id=\"T_9a7c5_row12_col7\" class=\"data row12 col7\" >0.2186</td>\n",
       "      <td id=\"T_9a7c5_row12_col8\" class=\"data row12 col8\" >36.9220</td>\n",
       "    </tr>\n",
       "    <tr>\n",
       "      <th id=\"T_9a7c5_level0_row13\" class=\"row_heading level0 row13\" >qda</th>\n",
       "      <td id=\"T_9a7c5_row13_col0\" class=\"data row13 col0\" >Quadratic Discriminant Analysis</td>\n",
       "      <td id=\"T_9a7c5_row13_col1\" class=\"data row13 col1\" >0.6394</td>\n",
       "      <td id=\"T_9a7c5_row13_col2\" class=\"data row13 col2\" >0.4739</td>\n",
       "      <td id=\"T_9a7c5_row13_col3\" class=\"data row13 col3\" >0.6644</td>\n",
       "      <td id=\"T_9a7c5_row13_col4\" class=\"data row13 col4\" >0.8842</td>\n",
       "      <td id=\"T_9a7c5_row13_col5\" class=\"data row13 col5\" >0.7419</td>\n",
       "      <td id=\"T_9a7c5_row13_col6\" class=\"data row13 col6\" >0.0483</td>\n",
       "      <td id=\"T_9a7c5_row13_col7\" class=\"data row13 col7\" >0.0628</td>\n",
       "      <td id=\"T_9a7c5_row13_col8\" class=\"data row13 col8\" >24.7500</td>\n",
       "    </tr>\n",
       "  </tbody>\n",
       "</table>\n"
      ],
      "text/plain": [
       "<pandas.io.formats.style.Styler at 0x7fa366faae60>"
      ]
     },
     "metadata": {},
     "output_type": "display_data"
    },
    {
     "data": {
      "text/html": [],
      "text/plain": [
       "<IPython.core.display.HTML object>"
      ]
     },
     "metadata": {},
     "output_type": "display_data"
    }
   ],
   "source": [
    "best_model = compare_models()"
   ]
  },
  {
   "cell_type": "code",
   "execution_count": null,
   "metadata": {},
   "outputs": [],
   "source": [
    "save_model(best_model, 'best_model_v3')"
   ]
  },
  {
   "cell_type": "code",
   "execution_count": null,
   "metadata": {},
   "outputs": [],
   "source": [
    "my_model = load_model('best_model_v3')"
   ]
  },
  {
   "cell_type": "markdown",
   "metadata": {},
   "source": [
    "Evaluate the model."
   ]
  },
  {
   "cell_type": "code",
   "execution_count": 14,
   "metadata": {},
   "outputs": [
    {
     "data": {
      "application/vnd.jupyter.widget-view+json": {
       "model_id": "1dca748920684b3cbd16f40c61e4d139",
       "version_major": 2,
       "version_minor": 0
      },
      "text/plain": [
       "interactive(children=(ToggleButtons(description='Plot Type:', icons=('',), options=(('Pipeline Plot', 'pipelin…"
      ]
     },
     "metadata": {},
     "output_type": "display_data"
    }
   ],
   "source": [
    "evaluate_model(my_model)"
   ]
  },
  {
   "cell_type": "code",
   "execution_count": 13,
   "metadata": {},
   "outputs": [
    {
     "data": {
      "text/html": [],
      "text/plain": [
       "<IPython.core.display.HTML object>"
      ]
     },
     "metadata": {},
     "output_type": "display_data"
    },
    {
     "data": {
      "image/png": "[encoded data removed]",
      "text/plain": [
       "<Figure size 800x550 with 1 Axes>"
      ]
     },
     "metadata": {},
     "output_type": "display_data"
    }
   ],
   "source": [
    "plot_model(my_model, plot='confusion_matrix', plot_kwargs={'percent':True})"
   ]
  },
  {
   "cell_type": "markdown",
   "metadata": {},
   "source": [
    "# Test Model"
   ]
  },
  {
   "cell_type": "markdown",
   "metadata": {},
   "source": [
    "## Training Dataset\n",
    "\n",
    "Predict on the training dataset."
   ]
  },
  {
   "cell_type": "code",
   "execution_count": 19,
   "metadata": {},
   "outputs": [
    {
     "data": {
      "text/html": [
       "<style type=\"text/css\">\n",
       "</style>\n",
       "<table id=\"T_f4843\">\n",
       "  <thead>\n",
       "    <tr>\n",
       "      <th class=\"blank level0\" >&nbsp;</th>\n",
       "      <th id=\"T_f4843_level0_col0\" class=\"col_heading level0 col0\" >Model</th>\n",
       "      <th id=\"T_f4843_level0_col1\" class=\"col_heading level0 col1\" >Accuracy</th>\n",
       "      <th id=\"T_f4843_level0_col2\" class=\"col_heading level0 col2\" >AUC</th>\n",
       "      <th id=\"T_f4843_level0_col3\" class=\"col_heading level0 col3\" >Recall</th>\n",
       "      <th id=\"T_f4843_level0_col4\" class=\"col_heading level0 col4\" >Prec.</th>\n",
       "      <th id=\"T_f4843_level0_col5\" class=\"col_heading level0 col5\" >F1</th>\n",
       "      <th id=\"T_f4843_level0_col6\" class=\"col_heading level0 col6\" >Kappa</th>\n",
       "      <th id=\"T_f4843_level0_col7\" class=\"col_heading level0 col7\" >MCC</th>\n",
       "    </tr>\n",
       "  </thead>\n",
       "  <tbody>\n",
       "    <tr>\n",
       "      <th id=\"T_f4843_level0_row0\" class=\"row_heading level0 row0\" >0</th>\n",
       "      <td id=\"T_f4843_row0_col0\" class=\"data row0 col0\" >Random Forest Classifier</td>\n",
       "      <td id=\"T_f4843_row0_col1\" class=\"data row0 col1\" >0.8400</td>\n",
       "      <td id=\"T_f4843_row0_col2\" class=\"data row0 col2\" >0.4673</td>\n",
       "      <td id=\"T_f4843_row0_col3\" class=\"data row0 col3\" >1.0000</td>\n",
       "      <td id=\"T_f4843_row0_col4\" class=\"data row0 col4\" >0.8400</td>\n",
       "      <td id=\"T_f4843_row0_col5\" class=\"data row0 col5\" >0.9130</td>\n",
       "      <td id=\"T_f4843_row0_col6\" class=\"data row0 col6\" >0.0000</td>\n",
       "      <td id=\"T_f4843_row0_col7\" class=\"data row0 col7\" >0.0000</td>\n",
       "    </tr>\n",
       "  </tbody>\n",
       "</table>\n"
      ],
      "text/plain": [
       "<pandas.io.formats.style.Styler at 0x7f32d4e97370>"
      ]
     },
     "metadata": {},
     "output_type": "display_data"
    }
   ],
   "source": [
    "predict_train = predict_model(my_model)"
   ]
  },
  {
   "cell_type": "markdown",
   "metadata": {},
   "source": [
    "## Test Dataset"
   ]
  },
  {
   "cell_type": "markdown",
   "metadata": {},
   "source": [
    "Combine test .tsv files into a Pandas DataFrame. Merge them on column `PATIENTID`."
   ]
  },
  {
   "cell_type": "code",
   "execution_count": 21,
   "metadata": {},
   "outputs": [],
   "source": [
    "path_test = '/home/kevin/Code/precisionFDA/Data/Brain-Cancer-Data/Test-Dataset'\n",
    "\n",
    "all_files = glob.glob(path_test + '/*.tsv')\n",
    "\n",
    "df_test = pd.DataFrame()\n",
    "\n",
    "for file in all_files:\n",
    "    df_current_test = pd.read_csv(file, sep='\\t')\n",
    "\n",
    "    if df_test.empty:\n",
    "        df_test = df_current_test\n",
    "    else:\n",
    "        df_test = df_test.merge(df_current_test, how='outer', on='PATIENTID')"
   ]
  },
  {
   "cell_type": "code",
   "execution_count": 22,
   "metadata": {},
   "outputs": [
    {
     "data": {
      "text/html": [
       "<div>\n",
       "<style scoped>\n",
       "    .dataframe tbody tr th:only-of-type {\n",
       "        vertical-align: middle;\n",
       "    }\n",
       "\n",
       "    .dataframe tbody tr th {\n",
       "        vertical-align: top;\n",
       "    }\n",
       "\n",
       "    .dataframe thead th {\n",
       "        text-align: right;\n",
       "    }\n",
       "</style>\n",
       "<table border=\"1\" class=\"dataframe\">\n",
       "  <thead>\n",
       "    <tr style=\"text-align: right;\">\n",
       "      <th></th>\n",
       "      <th>PATIENTID</th>\n",
       "      <th>A1BG</th>\n",
       "      <th>A1BG.AS1</th>\n",
       "      <th>A1CF</th>\n",
       "      <th>A2M</th>\n",
       "      <th>A2M.AS1</th>\n",
       "      <th>A2ML1</th>\n",
       "      <th>A4GALT</th>\n",
       "      <th>A4GNT</th>\n",
       "      <th>AA06</th>\n",
       "      <th>...</th>\n",
       "      <th>ZXDC</th>\n",
       "      <th>ZYG11A</th>\n",
       "      <th>ZYG11B</th>\n",
       "      <th>ZYX</th>\n",
       "      <th>ZZEF1</th>\n",
       "      <th>ZZZ3</th>\n",
       "      <th>SEX</th>\n",
       "      <th>RACE</th>\n",
       "      <th>WHO_GRADING</th>\n",
       "      <th>CANCER_TYPE</th>\n",
       "    </tr>\n",
       "  </thead>\n",
       "  <tbody>\n",
       "    <tr>\n",
       "      <th>0</th>\n",
       "      <td>patient_54</td>\n",
       "      <td>6.552369</td>\n",
       "      <td>6.516572</td>\n",
       "      <td>5.670704</td>\n",
       "      <td>12.696699</td>\n",
       "      <td>6.244980</td>\n",
       "      <td>5.494503</td>\n",
       "      <td>7.031448</td>\n",
       "      <td>6.186457</td>\n",
       "      <td>6.245582</td>\n",
       "      <td>...</td>\n",
       "      <td>7.453650</td>\n",
       "      <td>6.016575</td>\n",
       "      <td>8.809521</td>\n",
       "      <td>9.755064</td>\n",
       "      <td>8.466902</td>\n",
       "      <td>8.261902</td>\n",
       "      <td></td>\n",
       "      <td>NaN</td>\n",
       "      <td>II</td>\n",
       "      <td>OLIGODENDROGLIOMA</td>\n",
       "    </tr>\n",
       "    <tr>\n",
       "      <th>1</th>\n",
       "      <td>patient_456</td>\n",
       "      <td>6.341531</td>\n",
       "      <td>6.403964</td>\n",
       "      <td>5.575675</td>\n",
       "      <td>11.667261</td>\n",
       "      <td>6.208729</td>\n",
       "      <td>5.516190</td>\n",
       "      <td>7.077214</td>\n",
       "      <td>6.096601</td>\n",
       "      <td>6.406412</td>\n",
       "      <td>...</td>\n",
       "      <td>7.735993</td>\n",
       "      <td>6.054752</td>\n",
       "      <td>9.034913</td>\n",
       "      <td>9.474861</td>\n",
       "      <td>8.680185</td>\n",
       "      <td>8.380745</td>\n",
       "      <td></td>\n",
       "      <td>NaN</td>\n",
       "      <td>NaN</td>\n",
       "      <td>OLIGODENDROGLIOMA</td>\n",
       "    </tr>\n",
       "    <tr>\n",
       "      <th>2</th>\n",
       "      <td>patient_484</td>\n",
       "      <td>6.150328</td>\n",
       "      <td>6.452206</td>\n",
       "      <td>5.465605</td>\n",
       "      <td>12.384793</td>\n",
       "      <td>5.971820</td>\n",
       "      <td>5.339407</td>\n",
       "      <td>6.787843</td>\n",
       "      <td>6.217803</td>\n",
       "      <td>6.311967</td>\n",
       "      <td>...</td>\n",
       "      <td>7.710260</td>\n",
       "      <td>6.034905</td>\n",
       "      <td>9.327712</td>\n",
       "      <td>11.646340</td>\n",
       "      <td>8.511510</td>\n",
       "      <td>8.710605</td>\n",
       "      <td></td>\n",
       "      <td>NaN</td>\n",
       "      <td>NaN</td>\n",
       "      <td>GBM</td>\n",
       "    </tr>\n",
       "    <tr>\n",
       "      <th>3</th>\n",
       "      <td>patient_441</td>\n",
       "      <td>6.569596</td>\n",
       "      <td>6.428329</td>\n",
       "      <td>5.404905</td>\n",
       "      <td>12.918034</td>\n",
       "      <td>5.915066</td>\n",
       "      <td>5.295160</td>\n",
       "      <td>6.975057</td>\n",
       "      <td>6.054217</td>\n",
       "      <td>6.471112</td>\n",
       "      <td>...</td>\n",
       "      <td>7.749354</td>\n",
       "      <td>6.056110</td>\n",
       "      <td>9.418540</td>\n",
       "      <td>12.472090</td>\n",
       "      <td>8.651621</td>\n",
       "      <td>8.839366</td>\n",
       "      <td></td>\n",
       "      <td>NaN</td>\n",
       "      <td>NaN</td>\n",
       "      <td>GBM</td>\n",
       "    </tr>\n",
       "    <tr>\n",
       "      <th>4</th>\n",
       "      <td>patient_370</td>\n",
       "      <td>6.902578</td>\n",
       "      <td>6.343173</td>\n",
       "      <td>5.243564</td>\n",
       "      <td>13.215173</td>\n",
       "      <td>6.058236</td>\n",
       "      <td>5.203713</td>\n",
       "      <td>6.786196</td>\n",
       "      <td>6.035803</td>\n",
       "      <td>6.118639</td>\n",
       "      <td>...</td>\n",
       "      <td>7.444628</td>\n",
       "      <td>5.878318</td>\n",
       "      <td>9.493086</td>\n",
       "      <td>10.977615</td>\n",
       "      <td>8.479319</td>\n",
       "      <td>8.829912</td>\n",
       "      <td></td>\n",
       "      <td>NaN</td>\n",
       "      <td>NaN</td>\n",
       "      <td>GBM</td>\n",
       "    </tr>\n",
       "  </tbody>\n",
       "</table>\n",
       "<p>5 rows × 19340 columns</p>\n",
       "</div>"
      ],
      "text/plain": [
       "     PATIENTID      A1BG  A1BG.AS1      A1CF        A2M   A2M.AS1     A2ML1  \\\n",
       "0   patient_54  6.552369  6.516572  5.670704  12.696699  6.244980  5.494503   \n",
       "1  patient_456  6.341531  6.403964  5.575675  11.667261  6.208729  5.516190   \n",
       "2  patient_484  6.150328  6.452206  5.465605  12.384793  5.971820  5.339407   \n",
       "3  patient_441  6.569596  6.428329  5.404905  12.918034  5.915066  5.295160   \n",
       "4  patient_370  6.902578  6.343173  5.243564  13.215173  6.058236  5.203713   \n",
       "\n",
       "     A4GALT     A4GNT      AA06  ...      ZXDC    ZYG11A    ZYG11B        ZYX  \\\n",
       "0  7.031448  6.186457  6.245582  ...  7.453650  6.016575  8.809521   9.755064   \n",
       "1  7.077214  6.096601  6.406412  ...  7.735993  6.054752  9.034913   9.474861   \n",
       "2  6.787843  6.217803  6.311967  ...  7.710260  6.034905  9.327712  11.646340   \n",
       "3  6.975057  6.054217  6.471112  ...  7.749354  6.056110  9.418540  12.472090   \n",
       "4  6.786196  6.035803  6.118639  ...  7.444628  5.878318  9.493086  10.977615   \n",
       "\n",
       "      ZZEF1      ZZZ3  SEX  RACE  WHO_GRADING        CANCER_TYPE  \n",
       "0  8.466902  8.261902        NaN           II  OLIGODENDROGLIOMA  \n",
       "1  8.680185  8.380745        NaN          NaN  OLIGODENDROGLIOMA  \n",
       "2  8.511510  8.710605        NaN          NaN                GBM  \n",
       "3  8.651621  8.839366        NaN          NaN                GBM  \n",
       "4  8.479319  8.829912        NaN          NaN                GBM  \n",
       "\n",
       "[5 rows x 19340 columns]"
      ]
     },
     "execution_count": 22,
     "metadata": {},
     "output_type": "execute_result"
    }
   ],
   "source": [
    "df_test.head()"
   ]
  },
  {
   "cell_type": "code",
   "execution_count": 23,
   "metadata": {},
   "outputs": [
    {
     "name": "stdout",
     "output_type": "stream",
     "text": [
      "<class 'pandas.core.frame.DataFrame'>\n",
      "RangeIndex: 96 entries, 0 to 95\n",
      "Columns: 19340 entries, PATIENTID to CANCER_TYPE\n",
      "dtypes: float64(19335), object(5)\n",
      "memory usage: 14.2+ MB\n"
     ]
    }
   ],
   "source": [
    "df_test.info()"
   ]
  },
  {
   "cell_type": "markdown",
   "metadata": {},
   "source": [
    "Predict on the test dataset."
   ]
  },
  {
   "cell_type": "code",
   "execution_count": 31,
   "metadata": {},
   "outputs": [
    {
     "data": {
      "text/plain": [
       "count    96.000000\n",
       "mean      0.830417\n",
       "std       0.115375\n",
       "min       0.520000\n",
       "25%       0.780000\n",
       "50%       0.850000\n",
       "75%       0.922500\n",
       "max       0.990000\n",
       "Name: prediction_score, dtype: float64"
      ]
     },
     "execution_count": 31,
     "metadata": {},
     "output_type": "execute_result"
    }
   ],
   "source": [
    "predict_test = predict_model(my_model, df_test)\n",
    "predict_test['prediction_score'].describe()"
   ]
  }
 ],
 "metadata": {
  "kernelspec": {
   "display_name": "venv",
   "language": "python",
   "name": "python3"
  },
  "language_info": {
   "codemirror_mode": {
    "name": "ipython",
    "version": 3
   },
   "file_extension": ".py",
   "mimetype": "text/x-python",
   "name": "python",
   "nbconvert_exporter": "python",
   "pygments_lexer": "ipython3",
   "version": "3.10.12"
  }
 },
 "nbformat": 4,
 "nbformat_minor": 2
}
